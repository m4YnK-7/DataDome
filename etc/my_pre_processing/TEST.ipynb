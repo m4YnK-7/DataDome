{
 "cells": [
  {
   "cell_type": "code",
   "execution_count": 2,
   "metadata": {},
   "outputs": [],
   "source": [
    "import json\n",
    "import warnings\n",
    "from pathlib import Path\n",
    "import logging\n",
    "\n",
    "from logging_config import logger\n",
    "from dataset_loader import load_dataset\n",
    "from data_type_converter import infer_and_convert_dtypes\n",
    "from duplicate_removal import remove_duplicates\n",
    "from corr_anlys import calculate_correlations, drop_weak_correlations\n",
    "from missing_value import handle_missing_values\n",
    "from outlier import remove_outliers\n",
    "from categorize_colums import cat_c"
   ]
  },
  {
   "cell_type": "code",
   "execution_count": 3,
   "metadata": {},
   "outputs": [],
   "source": [
    "warnings.filterwarnings(\"ignore\")\n",
    "file_path = \"..//train.csv\""
   ]
  },
  {
   "cell_type": "code",
   "execution_count": 7,
   "metadata": {},
   "outputs": [
    {
     "name": "stderr",
     "output_type": "stream",
     "text": [
      "2025-02-07 21:49:15,318 - data_type_converter - INFO - Inferring and converting data types...\n",
      "2025-02-07 21:49:15,354 - duplicate_removal - INFO - Removing duplicate rows...\n",
      "2025-02-07 21:49:15,365 - logging_config - ERROR - Error processing dataset: argument of type 'method' is not iterable\n"
     ]
    },
    {
     "name": "stdout",
     "output_type": "stream",
     "text": [
      "Before: 1460\n",
      "['Id', 'MSSubClass', 'LotFrontage', 'LotArea', 'OverallQual', 'OverallCond', 'YearBuilt', 'YearRemodAdd', 'MasVnrArea', 'BsmtFinSF1', 'BsmtFinSF2', 'BsmtUnfSF', 'TotalBsmtSF', '1stFlrSF', '2ndFlrSF', 'LowQualFinSF', 'GrLivArea', 'BsmtFullBath', 'BsmtHalfBath', 'FullBath', 'HalfBath', 'BedroomAbvGr', 'KitchenAbvGr', 'TotRmsAbvGrd', 'Fireplaces', 'GarageYrBlt', 'GarageCars', 'GarageArea', 'WoodDeckSF', 'OpenPorchSF', 'EnclosedPorch', '3SsnPorch', 'ScreenPorch', 'PoolArea', 'MiscVal', 'MoSold', 'YrSold', 'SalePrice'] \n",
      " ['MSZoning', 'Street', 'Alley', 'LotShape', 'LandContour', 'Utilities', 'LotConfig', 'LandSlope', 'Neighborhood', 'Condition1', 'Condition2', 'BldgType', 'HouseStyle', 'RoofStyle', 'RoofMatl', 'Exterior1st', 'Exterior2nd', 'MasVnrType', 'ExterQual', 'ExterCond', 'Foundation', 'BsmtQual', 'BsmtCond', 'BsmtExposure', 'BsmtFinType1', 'BsmtFinType2', 'Heating', 'HeatingQC', 'CentralAir', 'Electrical', 'KitchenQual', 'Functional', 'FireplaceQu', 'GarageType', 'GarageFinish', 'GarageQual', 'GarageCond', 'PavedDrive', 'PoolQC', 'Fence', 'MiscFeature', 'SaleType', 'SaleCondition'] \n",
      " []\n"
     ]
    }
   ],
   "source": [
    "try:\n",
    "    df = load_dataset(file_path)\n",
    "\n",
    "    df, column_dtypes = infer_and_convert_dtypes(df)\n",
    "    df = remove_duplicates(df)\n",
    "    # correlation_scores = calculate_correlations(df)\n",
    "\n",
    "    # print(correlation_scores)\n",
    "    # df = drop_weak_correlations(df, correlation_scores, threshold=-1.0)\n",
    "\n",
    "    # df = handle_missing_values(df, column_dtypes)\n",
    "\n",
    "    print(\"Before: \" + str(len(df)))\n",
    "\n",
    "    ans = cat_c(df)\n",
    "    print(ans[\"numeric\"],\"\\n\",ans[\"categorical\"],\"\\n\",ans[\"datetime\"])\n",
    "\n",
    "    df = remove_outliers(df,ans[\"numeric\"],ans[\"categorical\"],ans[\"datetime\"])\n",
    "\n",
    "    # df = remove_outliers(df, column_dtypes, threshold=3.0)\n",
    "\n",
    "    print(\"After: \" + str(len(df)))\n",
    "\n",
    "    output_path = \".//\" +  Path(file_path).stem + \"_cleaned.csv\"\n",
    "    df.to_csv(output_path, index=False)\n",
    "\n",
    "\n",
    "    logger.info(\"Dataset processing completed successfully\")\n",
    "\n",
    "except Exception as e:\n",
    "    logger.error(f\"Error processing dataset: {str(e)}\")\n"
   ]
  },
  {
   "cell_type": "code",
   "execution_count": null,
   "metadata": {},
   "outputs": [
    {
     "name": "stdout",
     "output_type": "stream",
     "text": [
      "   Id  MSSubClass MSZoning  LotFrontage  LotArea Street Alley LotShape   \n",
      "0   1          60       RL         65.0     8450   Pave   NaN      Reg  \\\n",
      "1   2          20       RL         80.0     9600   Pave   NaN      Reg   \n",
      "2   3          60       RL         68.0    11250   Pave   NaN      IR1   \n",
      "3   4          70       RL         60.0     9550   Pave   NaN      IR1   \n",
      "4   5          60       RL         84.0    14260   Pave   NaN      IR1   \n",
      "\n",
      "  LandContour Utilities  ... PoolArea PoolQC Fence MiscFeature MiscVal MoSold   \n",
      "0         Lvl    AllPub  ...        0    NaN   NaN         NaN       0      2  \\\n",
      "1         Lvl    AllPub  ...        0    NaN   NaN         NaN       0      5   \n",
      "2         Lvl    AllPub  ...        0    NaN   NaN         NaN       0      9   \n",
      "3         Lvl    AllPub  ...        0    NaN   NaN         NaN       0      2   \n",
      "4         Lvl    AllPub  ...        0    NaN   NaN         NaN       0     12   \n",
      "\n",
      "  YrSold  SaleType  SaleCondition  SalePrice  \n",
      "0   2008        WD         Normal     208500  \n",
      "1   2007        WD         Normal     181500  \n",
      "2   2008        WD         Normal     223500  \n",
      "3   2006        WD        Abnorml     140000  \n",
      "4   2008        WD         Normal     250000  \n",
      "\n",
      "[5 rows x 81 columns]\n"
     ]
    }
   ],
   "source": []
  }
 ],
 "metadata": {
  "kernelspec": {
   "display_name": "Python 3",
   "language": "python",
   "name": "python3"
  },
  "language_info": {
   "codemirror_mode": {
    "name": "ipython",
    "version": 3
   },
   "file_extension": ".py",
   "mimetype": "text/x-python",
   "name": "python",
   "nbconvert_exporter": "python",
   "pygments_lexer": "ipython3",
   "version": "3.11.1"
  }
 },
 "nbformat": 4,
 "nbformat_minor": 2
}
